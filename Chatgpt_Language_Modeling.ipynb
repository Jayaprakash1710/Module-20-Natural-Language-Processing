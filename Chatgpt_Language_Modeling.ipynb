{
  "nbformat": 4,
  "nbformat_minor": 0,
  "metadata": {
    "colab": {
      "provenance": [],
      "authorship_tag": "ABX9TyPicauVFEDFjNxHHRWGnHyQ",
      "include_colab_link": true
    },
    "kernelspec": {
      "name": "python3",
      "display_name": "Python 3"
    },
    "language_info": {
      "name": "python"
    }
  },
  "cells": [
    {
      "cell_type": "markdown",
      "metadata": {
        "id": "view-in-github",
        "colab_type": "text"
      },
      "source": [
        "<a href=\"https://colab.research.google.com/github/Jayaprakash1710/Module-20-Natural-Language-Processing/blob/main/Chatgpt_Language_Modeling.ipynb\" target=\"_parent\"><img src=\"https://colab.research.google.com/assets/colab-badge.svg\" alt=\"Open In Colab\"/></a>"
      ]
    },
    {
      "cell_type": "markdown",
      "source": [
        "Unigram, bigram coding"
      ],
      "metadata": {
        "id": "dueUAr8qVKAk"
      }
    },
    {
      "cell_type": "markdown",
      "source": [
        "# Tokenization:"
      ],
      "metadata": {
        "id": "Z8QjoPS7Xusq"
      }
    },
    {
      "cell_type": "code",
      "execution_count": 1,
      "metadata": {
        "id": "3tUHqKt9VGCq"
      },
      "outputs": [],
      "source": [
        "sentences=[\n",
        "    'I love pizza',\n",
        "    'I love pasta',\n",
        "    'I eat pizza',\n",
        "    'you love pizza',\n",
        "    'you eat pasta'\n",
        "]"
      ]
    },
    {
      "cell_type": "code",
      "source": [
        "tokenized=[]\n",
        "for sentence in sentences:\n",
        "  sentence=sentence.lower().split()\n",
        "  for word in sentence:\n",
        "    tokenized.append(word)\n",
        "print(tokenized)"
      ],
      "metadata": {
        "id": "CyvztsPLX0O-",
        "outputId": "2ca9f6cd-3956-4b2f-cfc8-681075d2a8ce",
        "colab": {
          "base_uri": "https://localhost:8080/"
        }
      },
      "execution_count": 11,
      "outputs": [
        {
          "output_type": "stream",
          "name": "stdout",
          "text": [
            "['i', 'love', 'pizza', 'i', 'love', 'pasta', 'i', 'eat', 'pizza', 'you', 'love', 'pizza', 'you', 'eat', 'pasta']\n"
          ]
        }
      ]
    },
    {
      "cell_type": "code",
      "source": [
        "unigrams={}\n",
        "for token in tokenized:\n",
        "  if token not in unigrams:\n",
        "    unigrams[token]=0\n",
        "  unigrams[token]+=1\n",
        "print(unigrams)"
      ],
      "metadata": {
        "id": "EW6afhhyYOjx",
        "outputId": "95315679-89bb-47ed-e220-f8fc97827537",
        "colab": {
          "base_uri": "https://localhost:8080/"
        }
      },
      "execution_count": 12,
      "outputs": [
        {
          "output_type": "stream",
          "name": "stdout",
          "text": [
            "{'i': 3, 'love': 3, 'pizza': 3, 'pasta': 2, 'eat': 2, 'you': 2}\n"
          ]
        }
      ]
    },
    {
      "cell_type": "code",
      "source": [
        "pairs=[]\n",
        "for sentence in sentences:\n",
        "  sentence=sentence.lower().split()\n",
        "  for i in range(len(sentence)-1):\n",
        "    pairs.append((sentence[i],sentence[i+1]))\n",
        "print(pairs)"
      ],
      "metadata": {
        "id": "NGTxWyFHbuXS",
        "outputId": "54554b5d-8d8b-4505-c67e-9ab8566370fa",
        "colab": {
          "base_uri": "https://localhost:8080/"
        }
      },
      "execution_count": 15,
      "outputs": [
        {
          "output_type": "stream",
          "name": "stdout",
          "text": [
            "[('i', 'love'), ('love', 'pizza'), ('i', 'love'), ('love', 'pasta'), ('i', 'eat'), ('eat', 'pizza'), ('you', 'love'), ('love', 'pizza'), ('you', 'eat'), ('eat', 'pasta')]\n"
          ]
        }
      ]
    },
    {
      "cell_type": "code",
      "source": [
        "bigrams={}\n",
        "for pair in pairs:\n",
        "  if pair not in bigrams:\n",
        "    bigrams[pair]=0\n",
        "  bigrams[pair]+=1\n",
        "print(bigrams)"
      ],
      "metadata": {
        "id": "-L8kJm4Wczqh",
        "outputId": "a67e79b3-59d3-4e93-83a7-56da775cbb6b",
        "colab": {
          "base_uri": "https://localhost:8080/"
        }
      },
      "execution_count": 16,
      "outputs": [
        {
          "output_type": "stream",
          "name": "stdout",
          "text": [
            "{('i', 'love'): 2, ('love', 'pizza'): 2, ('love', 'pasta'): 1, ('i', 'eat'): 1, ('eat', 'pizza'): 1, ('you', 'love'): 1, ('you', 'eat'): 1, ('eat', 'pasta'): 1}\n"
          ]
        }
      ]
    },
    {
      "cell_type": "code",
      "source": [
        "word='love'\n",
        "for (w1,w2),count in bigrams.items():\n",
        "  prev=w1\n",
        "  next=w2\n",
        "  if prev==word:\n",
        "    print(f'{w2},{count/unigrams[word]}')"
      ],
      "metadata": {
        "id": "VvdNBuh9fjb1",
        "outputId": "d6638126-002a-425d-bdbd-d941144ae4b4",
        "colab": {
          "base_uri": "https://localhost:8080/"
        }
      },
      "execution_count": 20,
      "outputs": [
        {
          "output_type": "stream",
          "name": "stdout",
          "text": [
            "pizza,0.6666666666666666\n",
            "pasta,0.3333333333333333\n"
          ]
        }
      ]
    },
    {
      "cell_type": "code",
      "source": [],
      "metadata": {
        "id": "6R0IO7xQgwq8"
      },
      "execution_count": null,
      "outputs": []
    }
  ]
}